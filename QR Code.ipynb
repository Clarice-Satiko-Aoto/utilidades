{
 "cells": [
  {
   "cell_type": "markdown",
   "id": "7c148052",
   "metadata": {},
   "source": [
    "# QR Code"
   ]
  },
  {
   "cell_type": "code",
   "execution_count": null,
   "id": "57c0cd80",
   "metadata": {},
   "outputs": [],
   "source": [
    "#Installing lib\n",
    "!pip install qrcode[pil]\n",
    "!pip install opencv-python"
   ]
  },
  {
   "cell_type": "code",
   "execution_count": 4,
   "id": "7beae8f3",
   "metadata": {},
   "outputs": [],
   "source": [
    "#import libs\n",
    "import qrcode\n",
    "from PIL import Image"
   ]
  },
  {
   "cell_type": "code",
   "execution_count": 5,
   "id": "a631c904",
   "metadata": {},
   "outputs": [],
   "source": [
    "# QR Code for simple use\n",
    "img = qrcode.make('https://www.linkedin.com/in/claricesatikoaoto-bi-python-ux/')"
   ]
  },
  {
   "cell_type": "code",
   "execution_count": 6,
   "id": "8d3c1f1d",
   "metadata": {},
   "outputs": [],
   "source": [
    "# tunning\n",
    "qr = qrcode.QRCode(\n",
    "    version=1,\n",
    "    error_correction=qrcode.constants.ERROR_CORRECT_H,\n",
    "    box_size=10,\n",
    "    border=4,\n",
    ")"
   ]
  },
  {
   "cell_type": "raw",
   "id": "bb8b8e03",
   "metadata": {},
   "source": [
    "box_size - Determina o número de pixels para cada caixa do código QR.\n",
    "border- Determina a espessura da borda das caixas. O valor padrão é 4, que é o tamanho mínimo.\n",
    "error_correction- Controla a correção de erros usada. Isso será explicado com mais detalhes no próximo parágrafo.\n",
    "A correção de erros ajuda a melhorar a detecção, mesmo quando a imagem está desfigurada ou há uma imagem sobreposta no topo do QR Code. Existem quatro constantes disponíveis para error_correction:\n",
    "\n",
    "ERROR_CORRECT_L - Cerca de 7% ou menos erros podem ser corrigidos.\n",
    "ERROR_CORRECT_M- Cerca de 15% ou menos erros podem ser corrigidos. Este é o valor padrão.\n",
    "ERROR_CORRECT_Q - Cerca de 25% ou menos erros podem ser corrigidos.\n",
    "ERROR_CORRECT_H - Cerca de 30% ou menos erros podem ser corrigidos."
   ]
  },
  {
   "cell_type": "code",
   "execution_count": 11,
   "id": "b3fc4823",
   "metadata": {},
   "outputs": [],
   "source": [
    "#add info\n",
    "qr.add_data('https://www.linkedin.com/in/claricesatikoaoto-bi-python-ux/')\n",
    "qr.make(fit=True)\n",
    "img = qr.make_image(fill_color=\"black\", back_color=\"white\").convert('RGB')\n",
    "img.save(\"QR_Clarice_In.png\")"
   ]
  },
  {
   "cell_type": "code",
   "execution_count": null,
   "id": "be06e249",
   "metadata": {},
   "outputs": [],
   "source": []
  },
  {
   "cell_type": "markdown",
   "id": "976d63bb",
   "metadata": {},
   "source": [
    "<img src=\"D:\\Python\\Youtube_Class\\QR_Code\"><br>"
   ]
  },
  {
   "cell_type": "code",
   "execution_count": 8,
   "id": "e56c2685",
   "metadata": {},
   "outputs": [],
   "source": [
    "logo_display = Image.open('QR_Clarice_In.png')\n",
    "logo_display.thumbnail((60, 60))"
   ]
  },
  {
   "cell_type": "code",
   "execution_count": 9,
   "id": "abcf0d8f",
   "metadata": {},
   "outputs": [],
   "source": [
    "logo_pos = ((img.size[0] - logo_display.size[0]) // 2, (img.size[1] - logo_display.size[1]) // 2)\n",
    "img.paste(logo_display, logo_pos)"
   ]
  },
  {
   "cell_type": "code",
   "execution_count": 10,
   "id": "b03bddf4",
   "metadata": {},
   "outputs": [],
   "source": [
    "img.save(\"QR_Clarice_In2.png\")"
   ]
  },
  {
   "cell_type": "markdown",
   "id": "7bb073cb",
   "metadata": {},
   "source": [
    "<img src=\"D:\\Python\\Youtube_Class\\QR_Code\\QR_Clarice_In2.png\">"
   ]
  },
  {
   "cell_type": "code",
   "execution_count": null,
   "id": "e4055d13",
   "metadata": {},
   "outputs": [],
   "source": []
  }
 ],
 "metadata": {
  "kernelspec": {
   "display_name": "Python 3 (ipykernel)",
   "language": "python",
   "name": "python3"
  },
  "language_info": {
   "codemirror_mode": {
    "name": "ipython",
    "version": 3
   },
   "file_extension": ".py",
   "mimetype": "text/x-python",
   "name": "python",
   "nbconvert_exporter": "python",
   "pygments_lexer": "ipython3",
   "version": "3.8.0"
  }
 },
 "nbformat": 4,
 "nbformat_minor": 5
}
